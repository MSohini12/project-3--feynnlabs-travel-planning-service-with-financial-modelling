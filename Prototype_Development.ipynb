{
  "nbformat": 4,
  "nbformat_minor": 0,
  "metadata": {
    "colab": {
      "provenance": [],
      "authorship_tag": "ABX9TyPPdIzz55VzCXOjzb0ESSyx",
      "include_colab_link": true
    },
    "kernelspec": {
      "name": "python3",
      "display_name": "Python 3"
    },
    "language_info": {
      "name": "python"
    }
  },
  "cells": [
    {
      "cell_type": "markdown",
      "metadata": {
        "id": "view-in-github",
        "colab_type": "text"
      },
      "source": [
        "<a href=\"https://colab.research.google.com/github/MSohini12/project-3--feynnlabs-travel-planning-service-with-financial-modelling/blob/main/Prototype_Development.ipynb\" target=\"_parent\"><img src=\"https://colab.research.google.com/assets/colab-badge.svg\" alt=\"Open In Colab\"/></a>"
      ]
    },
    {
      "cell_type": "code",
      "execution_count": 1,
      "metadata": {
        "id": "IUf5r6f1ErtF"
      },
      "outputs": [],
      "source": [
        "import pandas as pd\n",
        "from sklearn.model_selection import train_test_split\n",
        "from sklearn.metrics.pairwise import cosine_similarity\n",
        "import numpy as np\n"
      ]
    },
    {
      "cell_type": "markdown",
      "source": [
        "# Data Preprocessing"
      ],
      "metadata": {
        "id": "TF-ed38TgLX8"
      }
    },
    {
      "cell_type": "code",
      "source": [
        "import pandas as pd\n",
        "\n",
        "# Load datasets\n",
        "users_df = pd.read_csv('Final_Updated_Expanded_Users.csv')\n",
        "user_history_df = pd.read_csv('Final_Updated_Expanded_UserHistory.csv')\n",
        "destinations_df = pd.read_csv('Expanded_Destinations.csv')\n",
        "\n",
        "# Display the first few rows of each dataset to understand their structure\n",
        "print(users_df.head())\n",
        "print(user_history_df.head())\n",
        "print(destinations_df.head())\n",
        "\n",
        "# Merging user profiles with their history\n",
        "merged_df = pd.merge(user_history_df, users_df, on='UserID')\n",
        "\n",
        "# Display the first few rows of the merged dataframe\n",
        "print(merged_df.head())\n",
        "\n",
        "# Creating a pivot table to get the user-item interaction matrix\n",
        "user_item_matrix = pd.crosstab(merged_df['UserID'], merged_df['DestinationID'])\n",
        "\n",
        "# Display the first few rows of the user-item interaction matrix\n",
        "print(user_item_matrix.head())\n"
      ],
      "metadata": {
        "colab": {
          "base_uri": "https://localhost:8080/"
        },
        "id": "5s-PACjuRuPG",
        "outputId": "c1af8ff1-27d5-4b60-cd92-112cc6135244"
      },
      "execution_count": 51,
      "outputs": [
        {
          "output_type": "stream",
          "name": "stdout",
          "text": [
            "   UserID   Name              Email          Preferences  Gender  \\\n",
            "0       1  Kavya  kavya@example.com  Beaches, Historical  Female   \n",
            "1       2  Rohan  rohan@example.com    Nature, Adventure    Male   \n",
            "2       3  Kavya  kavya@example.com     City, Historical  Female   \n",
            "3       4  Anika  anika@example.com  Beaches, Historical  Female   \n",
            "4       5  Tanvi  tanvi@example.com    Nature, Adventure  Female   \n",
            "\n",
            "   NumberOfAdults  NumberOfChildren  \n",
            "0               1                 0  \n",
            "1               2                 2  \n",
            "2               2                 0  \n",
            "3               1                 0  \n",
            "4               2                 2  \n",
            "   HistoryID  UserID  DestinationID   VisitDate  ExperienceRating\n",
            "0          1     525            760  2024-01-01                 3\n",
            "1          2     184            532  2024-02-15                 5\n",
            "2          3     897            786  2024-03-20                 2\n",
            "3          4     470            660  2024-01-01                 1\n",
            "4          5     989            389  2024-02-15                 4\n",
            "   DestinationID               Name              State        Type  \\\n",
            "0              1          Taj Mahal      Uttar Pradesh  Historical   \n",
            "1              2        Goa Beaches                Goa       Beach   \n",
            "2              3        Jaipur City          Rajasthan        City   \n",
            "3              4  Kerala Backwaters             Kerala      Nature   \n",
            "4              5         Leh Ladakh  Jammu and Kashmir   Adventure   \n",
            "\n",
            "   Popularity BestTimeToVisit  \n",
            "0    8.691906         Nov-Feb  \n",
            "1    8.605032         Nov-Mar  \n",
            "2    9.225372         Oct-Mar  \n",
            "3    7.977386         Sep-Mar  \n",
            "4    8.399822         Apr-Jun  \n",
            "   HistoryID  UserID  DestinationID   VisitDate  ExperienceRating    Name  \\\n",
            "0          1     525            760  2024-01-01                 3  Saanvi   \n",
            "1          2     184            532  2024-02-15                 5  Ishaan   \n",
            "2        528     184            394  2024-03-20                 3  Ishaan   \n",
            "3        676     184            878  2024-01-01                 3  Ishaan   \n",
            "4        693     184            485  2024-03-20                 1  Ishaan   \n",
            "\n",
            "                Email          Preferences  Gender  NumberOfAdults  \\\n",
            "0  saanvi@example.com     City, Historical  Female               2   \n",
            "1  ishaan@example.com  Beaches, Historical    Male               1   \n",
            "2  ishaan@example.com  Beaches, Historical    Male               1   \n",
            "3  ishaan@example.com  Beaches, Historical    Male               1   \n",
            "4  ishaan@example.com  Beaches, Historical    Male               1   \n",
            "\n",
            "   NumberOfChildren  \n",
            "0                 2  \n",
            "1                 2  \n",
            "2                 2  \n",
            "3                 2  \n",
            "4                 2  \n",
            "DestinationID  2     3     4     5     6     7     8     9     10    11    \\\n",
            "UserID                                                                      \n",
            "1                 0     0     0     0     0     0     0     0     0     0   \n",
            "2                 0     0     0     0     0     0     0     0     0     0   \n",
            "3                 0     0     0     0     0     0     0     0     0     0   \n",
            "5                 0     0     0     0     0     0     0     0     0     0   \n",
            "7                 0     0     0     0     0     0     0     0     0     0   \n",
            "\n",
            "DestinationID  ...  987   988   990   991   993   994   996   997   998   1000  \n",
            "UserID         ...                                                              \n",
            "1              ...     0     0     0     0     0     0     0     0     0     0  \n",
            "2              ...     0     0     0     0     0     0     0     0     0     0  \n",
            "3              ...     0     0     0     0     0     0     0     0     0     0  \n",
            "5              ...     0     0     0     0     0     0     0     0     0     0  \n",
            "7              ...     0     0     0     0     0     0     0     0     0     0  \n",
            "\n",
            "[5 rows x 638 columns]\n"
          ]
        }
      ]
    },
    {
      "cell_type": "markdown",
      "source": [
        "# Recommendation Engine"
      ],
      "metadata": {
        "id": "rRX4KFktggRt"
      }
    },
    {
      "cell_type": "code",
      "source": [
        "from sklearn.preprocessing import StandardScaler\n",
        "from sklearn.decomposition import TruncatedSVD\n",
        "from sklearn.metrics.pairwise import cosine_similarity\n",
        "import numpy as np\n",
        "\n",
        "# Normalizing the user-item matrix\n",
        "scaler = StandardScaler()\n",
        "user_item_matrix_scaled = scaler.fit_transform(user_item_matrix)\n",
        "\n",
        "# Applying Truncated SVD for dimensionality reduction\n",
        "svd = TruncatedSVD(n_components=50, random_state=42)\n",
        "latent_matrix = svd.fit_transform(user_item_matrix_scaled)\n",
        "\n",
        "# Computing the similarity matrix\n",
        "similarity_matrix = cosine_similarity(latent_matrix)\n",
        "\n",
        "# Recommendation function\n",
        "def recommend(user_id, user_features, similarity_matrix, top_n=5):\n",
        "    user_idx = user_features.index.get_loc(user_id)\n",
        "    similar_users = np.argsort(similarity_matrix[user_idx])[::-1]\n",
        "\n",
        "    recommended_destinations = {}\n",
        "    for sim_user in similar_users:\n",
        "        for destination in user_features.columns:\n",
        "            if user_features.iloc[sim_user][destination] > 0 and user_features.iloc[user_idx][destination] == 0:\n",
        "                if destination not in recommended_destinations:\n",
        "                    recommended_destinations[destination] = similarity_matrix[user_idx][sim_user]\n",
        "                else:\n",
        "                    recommended_destinations[destination] += similarity_matrix[user_idx][sim_user]\n",
        "\n",
        "    recommended_destinations = sorted(recommended_destinations.items(), key=lambda x: x[1], reverse=True)[:top_n]\n",
        "    return [destination for destination, _ in recommended_destinations]\n",
        "\n",
        "# Example recommendation for a user\n",
        "user_id = user_item_matrix.index[0]\n",
        "recommendations = recommend(user_id, user_item_matrix, similarity_matrix)\n",
        "print(f\"Recommended Destinations for User {user_id}:\", recommendations)\n"
      ],
      "metadata": {
        "colab": {
          "base_uri": "https://localhost:8080/"
        },
        "id": "2y6rgpGkR2q0",
        "outputId": "b17ddd6e-590a-46d6-d8eb-b1fb4f1db87f"
      },
      "execution_count": 46,
      "outputs": [
        {
          "output_type": "stream",
          "name": "stdout",
          "text": [
            "Recommended Destinations for User 1: [114, 21, 250, 135, 372]\n"
          ]
        }
      ]
    },
    {
      "cell_type": "markdown",
      "source": [
        "# Customer Support Chatbot"
      ],
      "metadata": {
        "id": "FzSHzYhIgnvS"
      }
    },
    {
      "cell_type": "code",
      "source": [
        "import nltk\n",
        "from nltk.chat.util import Chat, reflections\n",
        "\n",
        "# Define pairs of patterns and responses\n",
        "pairs = [\n",
        "    [\n",
        "        r\"(.*) (location|city) ?\",\n",
        "        [\"We provide recommendations for multiple locations. Could you please specify which type of destination you are looking for?\"]\n",
        "    ],\n",
        "    [\n",
        "        r\"(.*) (price|cost) ?\",\n",
        "        [\"Our recommendations are tailored to fit various budget ranges. Could you please specify your budget?\"]\n",
        "    ],\n",
        "    [\n",
        "        r\"quit\",\n",
        "        [\"Thank you for using Travel-Ease. Have a great day!\"]\n",
        "    ],\n",
        "]\n",
        "\n",
        "# Create the chatbot\n",
        "chatbot = Chat(pairs, reflections)\n",
        "\n",
        "# Interact with the chatbot\n",
        "print(\"Hi, how can I assist you today?\")\n",
        "chatbot.converse()\n"
      ],
      "metadata": {
        "colab": {
          "base_uri": "https://localhost:8080/"
        },
        "id": "ktAbTtMrSDG8",
        "outputId": "dc5d4ee7-eb84-4f8e-968a-eeab5f01b4bb"
      },
      "execution_count": 47,
      "outputs": [
        {
          "output_type": "stream",
          "name": "stdout",
          "text": [
            "Hi, how can I assist you today?\n",
            ">quit\n",
            "Thank you for using Travel-Ease. Have a great day!\n"
          ]
        }
      ]
    },
    {
      "cell_type": "markdown",
      "source": [
        "# Prototype Validation"
      ],
      "metadata": {
        "id": "aet4r4Frg17A"
      }
    },
    {
      "cell_type": "code",
      "source": [
        "# Function to validate recommendations (simplified example)\n",
        "def validate_recommendations():\n",
        "    test_users = user_item_matrix.index[:5]  # Select a small set of test users\n",
        "    for user_id in test_users:\n",
        "        recommendations = recommend(user_id, user_item_matrix, similarity_matrix)\n",
        "        print(f\"Recommended Destinations for User {user_id}:\", recommendations)\n",
        "\n",
        "# Validate the recommendations\n",
        "validate_recommendations()\n",
        "\n",
        "# Example interaction with the chatbot\n",
        "print(\"Hi, how can I assist you today?\")\n",
        "chatbot.converse()\n",
        "\n"
      ],
      "metadata": {
        "colab": {
          "base_uri": "https://localhost:8080/"
        },
        "id": "6xQKlGRuSL2T",
        "outputId": "2859a07a-5c83-40f3-e170-8085b5522fa4"
      },
      "execution_count": 49,
      "outputs": [
        {
          "output_type": "stream",
          "name": "stdout",
          "text": [
            "Recommended Destinations for User 1: [114, 21, 250, 135, 372]\n",
            "Recommended Destinations for User 2: [952, 135, 315, 113, 978]\n",
            "Recommended Destinations for User 3: [872, 732, 239, 661, 259]\n",
            "Recommended Destinations for User 5: [555, 135, 723, 389, 346]\n",
            "Recommended Destinations for User 7: [748, 366, 230, 7, 531]\n",
            "Hi, how can I assist you today?\n",
            ">quit\n",
            "Thank you for using Travel-Ease. Have a great day!\n"
          ]
        }
      ]
    }
  ]
}